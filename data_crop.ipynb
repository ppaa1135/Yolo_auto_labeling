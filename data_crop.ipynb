{
 "cells": [
  {
   "cell_type": "code",
   "execution_count": 1,
   "metadata": {},
   "outputs": [],
   "source": [
    "import numpy as np\n",
    "import cv2\n",
    "import matplotlib.pyplot as plt\n",
    "import os"
   ]
  },
  {
   "cell_type": "markdown",
   "metadata": {},
   "source": [
    "## image contour crop"
   ]
  },
  {
   "cell_type": "code",
   "execution_count": null,
   "metadata": {},
   "outputs": [],
   "source": [
    "size = 2000\n",
    "\n",
    "img = cv2.imread(\"./test_data/1.jpg\", cv2.IMREAD_COLOR)\n",
    "#img = cv2.resize(img, (size,size), interpolation=cv2.INTER_AREA)\n",
    "\n",
    "gray = cv2.cvtColor(img, cv2.COLOR_BGR2GRAY)\n",
    "ret, thr = cv2.threshold(gray, 200, 255, cv2.THRESH_BINARY)\n",
    "# thr = cv2.threshold(gray, 0, 255, cv2.THRESH_BINARY | cv2.THRESH_OTSU)[1]\n",
    "# thr = cv2.adaptiveThreshold(gray, 255, cv2.ADAPTIVE_THRESH_MEAN_C, cv2.THRESH_BINARY, 77, 30)\n",
    "# plt.imshow(thr)\n",
    "\n",
    "kernel = np.ones((5, 5), np.uint8)\n",
    "morph_img = cv2.morphologyEx(thr, cv2.MORPH_OPEN, kernel)\n",
    "\n",
    "mask = np.zeros_like(morph_img) \n",
    "contours, _ = cv2.findContours(morph_img, cv2.RETR_TREE, cv2.CHAIN_APPROX_SIMPLE) \n",
    "cv2.drawContours(mask, contours, -1, (255, 255, 255), 3)\n",
    "\n",
    "plt.imshow(mask)\n",
    "\n",
    "indexs = np.where(morph_img == 255)\n",
    "\n",
    "new_img = np.zeros((img.shape[0],img.shape[1],4))\n",
    "\n",
    "for i in range(indexs[0].shape[0]):\n",
    "#     print(i)\n",
    "    new_img[indexs[0][i]][indexs[1][i]][:3] = img[indexs[0][i]][indexs[1][i]][0]\n",
    "    new_img[indexs[0][i]][indexs[1][i]][3] = 255\n",
    "#     print(new_img[indexs[0][i]][indexs[1][i]])\n",
    "\n",
    "(y, x) = np.where(mask == 255)\n",
    "(topy, topx) = (np.min(y), np.min(x))\n",
    "(bottomy, bottomx) = (np.max(y), np.max(x))\n",
    "out = new_img[topy:bottomy+1, topx:bottomx+1]\n",
    "\n",
    "cv2.imwrite(\"test2.png\",out)\n"
   ]
  },
  {
   "cell_type": "code",
   "execution_count": 11,
   "metadata": {},
   "outputs": [
    {
     "data": {
      "text/plain": [
       "True"
      ]
     },
     "execution_count": 11,
     "metadata": {},
     "output_type": "execute_result"
    },
    {
     "data": {
      "image/png": "[encoded data removed]",
      "text/plain": [
       "<Figure size 432x288 with 1 Axes>"
      ]
     },
     "metadata": {
      "needs_background": "light"
     },
     "output_type": "display_data"
    }
   ],
   "source": [
    "import numpy as np\n",
    "import cv2\n",
    "img = cv2.imread('./test_data/4.jpg',  0) # Read in your image\n",
    "ret, thr = cv2.threshold(img, 150, 255, cv2.THRESH_BINARY)\n",
    "\n",
    "kernel = np.ones((3, 3), np.uint8)\n",
    "result = cv2.morphologyEx(thr, cv2.MORPH_OPEN, kernel)\n",
    "\n",
    "# contours, _ = cv2.findContours(...) # Your call to find the contours using OpenCV 2.4.x\n",
    "contours, _ = cv2.findContours(result, cv2.RETR_TREE, cv2.CHAIN_APPROX_SIMPLE) # Your call to find the contours\n",
    "\n",
    "mask = np.zeros_like(img) # Create mask where white is what we want, black otherwise\n",
    "cv2.drawContours(mask, contours, -1, (255,0,0), 10) # Draw filled contour in mask\n",
    "out = np.zeros_like(img) # Extract out the object and place into output image\n",
    "out[mask == 255] = img[mask == 255]\n",
    "\n",
    "#print(contours)\n",
    "\n",
    "# Now crop\n",
    "(y, x) = np.where(mask == 255)\n",
    "(topy, topx) = (np.min(y), np.min(x))\n",
    "(bottomy, bottomx) = (np.max(y), np.max(x))\n",
    "out = out[topy:bottomy+1, topx:bottomx+1]\n",
    "\n",
    "# Show the output image\n",
    "plt.imshow(out)\n",
    "cv2.imwrite(\"test.jpg\",out)"
   ]
  },
  {
   "cell_type": "markdown",
   "metadata": {},
   "source": [
    "## image color segmentation"
   ]
  },
  {
   "cell_type": "code",
   "execution_count": null,
   "metadata": {},
   "outputs": [],
   "source": [
    "img = cv2.imread(\"./test_data/5.jpg\", cv2.IMREAD_COLOR)\n",
    "hsv_img = cv2.cvtColor(img, cv2.COLOR_BGR2HSV)\n",
    "\n",
    "\n",
    "rgb_green = np.uint8([[0,255,0]])\n",
    "low_green = np.array([60,90,90])\n",
    "high_green = np.array([90,255,255])\n",
    "\n",
    "mask_green = cv2.inRange(hsv_img, low_green, high_green)\n",
    "\n",
    "green_background = cv2.bitwise_and(hsv_img, hsv_img, mask = mask_green)\n",
    "\n",
    "green_background_rgb = cv2.cvtColor(green_background, cv2.COLOR_HSV2BGR)\n",
    "\n",
    "plt.figure(figsize=(8,8))\n",
    "plt.imshow(green_background_rgb)"
   ]
  },
  {
   "cell_type": "code",
   "execution_count": null,
   "metadata": {},
   "outputs": [],
   "source": [
    "new_img = np.absolute(img - green_background_rgb)\n",
    "\n",
    "plt.figure(figsize=(8,8))\n",
    "plt.imshow(new_img)"
   ]
  },
  {
   "cell_type": "code",
   "execution_count": null,
   "metadata": {
    "scrolled": false
   },
   "outputs": [],
   "source": [
    "gray = cv2.cvtColor(new_img, cv2.COLOR_BGR2GRAY)\n",
    "ret, thr = cv2.threshold(gray, 120, 255, cv2.THRESH_BINARY)\n",
    "\n",
    "kernel = np.ones((3, 3), np.uint8)\n",
    "morph_img = cv2.morphologyEx(thr, cv2.MORPH_OPEN, kernel)\n",
    "\n",
    "plt.figure(figsize=(8,8))\n",
    "plt.imshow(morph_img)"
   ]
  },
  {
   "cell_type": "code",
   "execution_count": null,
   "metadata": {},
   "outputs": [],
   "source": [
    "indexs = np.where(morph_img == 255)\n",
    "\n",
    "new_img = np.zeros((img.shape[0],img.shape[1],4))\n",
    "\n",
    "for i in range(indexs[0].shape[0]):\n",
    "#     print(i)\n",
    "    new_img[indexs[0][i]][indexs[1][i]][:3] = img[indexs[0][i]][indexs[1][i]]\n",
    "    new_img[indexs[0][i]][indexs[1][i]][3] = 255\n",
    "#     print(new_img[indexs[0][i]][indexs[1][i]])\n",
    "\n",
    "(y, x) = np.where(morph_img == 255)\n",
    "(topy, topx) = (np.min(y), np.min(x))\n",
    "(bottomy, bottomx) = (np.max(y), np.max(x))\n",
    "out = new_img[topy:bottomy+1, topx:bottomx+1]\n",
    "\n",
    "cv2.imwrite(\"test2.png\",out)\n",
    "\n",
    "print(out.shape)"
   ]
  },
  {
   "cell_type": "markdown",
   "metadata": {},
   "source": [
    "## crop dataset v1"
   ]
  },
  {
   "cell_type": "code",
   "execution_count": null,
   "metadata": {},
   "outputs": [],
   "source": [
    "object_list = os.listdir(\"./test_data\")\n",
    "\n",
    "for one_object in object_list:\n",
    "\n",
    "    img = cv2.imread(\"./test_data/\" + one_object, cv2.IMREAD_COLOR)\n",
    "    hsv_img = cv2.cvtColor(img, cv2.COLOR_BGR2HSV)\n",
    "\n",
    "\n",
    "    rgb_green = np.uint8([[0,255,0]])\n",
    "    low_green = np.array([60,90,90])\n",
    "    high_green = np.array([90,255,255])\n",
    "\n",
    "    mask_green = cv2.inRange(hsv_img, low_green, high_green)\n",
    "\n",
    "    green_background = cv2.bitwise_and(hsv_img, hsv_img, mask = mask_green)\n",
    "\n",
    "    green_background_rgb = cv2.cvtColor(green_background, cv2.COLOR_HSV2BGR)\n",
    "\n",
    "\n",
    "    new_img = np.absolute(img - green_background_rgb)\n",
    "\n",
    "    gray = cv2.cvtColor(new_img, cv2.COLOR_BGR2GRAY)\n",
    "    ret, thr = cv2.threshold(gray, 120, 255, cv2.THRESH_BINARY)\n",
    "\n",
    "    kernel = np.ones((3, 3), np.uint8)\n",
    "    morph_img = cv2.morphologyEx(thr, cv2.MORPH_OPEN, kernel)\n",
    "\n",
    "    indexs = np.where(morph_img == 255)\n",
    "\n",
    "    new_img = np.zeros((img.shape[0],img.shape[1],4))\n",
    "\n",
    "    for i in range(indexs[0].shape[0]):\n",
    "    #     print(i)\n",
    "        new_img[indexs[0][i]][indexs[1][i]][:3] = img[indexs[0][i]][indexs[1][i]]\n",
    "        new_img[indexs[0][i]][indexs[1][i]][3] = 255\n",
    "    #     print(new_img[indexs[0][i]][indexs[1][i]])\n",
    "\n",
    "    (y, x) = np.where(morph_img == 255)\n",
    "    (topy, topx) = (np.min(y), np.min(x))\n",
    "    (bottomy, bottomx) = (np.max(y), np.max(x))\n",
    "    out = new_img[topy:bottomy+1, topx:bottomx+1]\n",
    "\n",
    "    cv2.imwrite(\"object_v2/\" + one_object[:-3] + \"png\",out)\n",
    "\n"
   ]
  },
  {
   "cell_type": "markdown",
   "metadata": {},
   "source": [
    "## test red color"
   ]
  },
  {
   "cell_type": "code",
   "execution_count": null,
   "metadata": {},
   "outputs": [],
   "source": [
    "img = cv2.imread(\"./test_data/10.jpg\", cv2.IMREAD_COLOR)\n",
    "hsv_img = cv2.cvtColor(img, cv2.COLOR_BGR2HSV)\n",
    "\n",
    "\n",
    "rgb_green = np.uint8([[0,255,0]])\n",
    "\n",
    "# lower mask (0-10)\n",
    "lower_red = np.array([0,0,60])\n",
    "upper_red = np.array([10,255,255])\n",
    "mask0 = cv2.inRange(hsv_img, lower_red, upper_red)\n",
    "\n",
    "# upper mask (170-180)\n",
    "lower_red = np.array([175,0,60])\n",
    "upper_red = np.array([180,255,255])\n",
    "mask1 = cv2.inRange(hsv_img, lower_red, upper_red)\n",
    "\n",
    "# join my masks\n",
    "mask_red = mask0+mask1\n",
    "mask = cv2.morphologyEx(mask_red, cv2.MORPH_OPEN, cv2.getStructuringElement(cv2.MORPH_ELLIPSE, (3, 3)))\n",
    "mask = cv2.bitwise_not(mask)\n",
    "# mask_red = cv2.inRange(hsv_img, low_red, high_red)\n",
    "\n",
    "background = cv2.bitwise_and(hsv_img, hsv_img, mask = mask)\n",
    "\n",
    "background_rgb = cv2.cvtColor(background, cv2.COLOR_HSV2RGB)\n",
    "\n",
    "plt.figure(figsize=(10,10))\n",
    "plt.imshow(background_rgb)"
   ]
  },
  {
   "cell_type": "code",
   "execution_count": null,
   "metadata": {},
   "outputs": [],
   "source": [
    "gray = cv2.cvtColor(background, cv2.COLOR_RGB2GRAY)\n",
    "\n",
    "indexs = np.where(gray != 0)\n",
    "\n",
    "new_img = np.zeros((img.shape[0],img.shape[1],4))\n",
    "\n",
    "for i in range(indexs[0].shape[0]):\n",
    "#     print(i)\n",
    "    new_img[indexs[0][i]][indexs[1][i]][:3] = img[indexs[0][i]][indexs[1][i]]\n",
    "    new_img[indexs[0][i]][indexs[1][i]][3] = 255\n",
    "#     print(new_img[indexs[0][i]][indexs[1][i]])\n",
    "\n",
    "(y, x) = np.where(gray != 0)\n",
    "(topy, topx) = (np.min(y), np.min(x))\n",
    "(bottomy, bottomx) = (np.max(y), np.max(x))\n",
    "out = new_img[topy:bottomy+1, topx:bottomx+1]\n",
    "\n",
    "cv2.imwrite(\"test2.png\",out)\n",
    "\n",
    "print(out.shape)"
   ]
  },
  {
   "cell_type": "markdown",
   "metadata": {},
   "source": [
    "## test blue color"
   ]
  },
  {
   "cell_type": "code",
   "execution_count": null,
   "metadata": {
    "scrolled": false
   },
   "outputs": [],
   "source": [
    "img = cv2.imread(\"./test_data/11.jpg\", cv2.IMREAD_COLOR)\n",
    "# img = cv2.resize(img,None,fx=0.5,fy=0.5)\n",
    "hsv_img = cv2.cvtColor(img, cv2.COLOR_BGR2HSV)\n",
    "\n",
    "\n",
    "# lower mask (0-10)\n",
    "lower_blue = np.array([100,40,40])\n",
    "upper_blue = np.array([140,255,255])\n",
    "mask = cv2.inRange(hsv_img, lower_blue, upper_blue)\n",
    "\n",
    "mask = cv2.morphologyEx(mask, cv2.MORPH_OPEN, cv2.getStructuringElement(cv2.MORPH_ELLIPSE, (3, 3)))\n",
    "mask = cv2.bitwise_not(mask)\n",
    "\n",
    "background = cv2.bitwise_and(hsv_img, hsv_img, mask = mask)\n",
    "# plt.figure(figsize=(10,10))\n",
    "# plt.imshow(mask)\n",
    "\n",
    "background_rgb = cv2.cvtColor(background, cv2.COLOR_HSV2RGB)\n",
    "\n",
    "plt.figure(figsize=(10,10))\n",
    "plt.imshow(background_rgb)"
   ]
  },
  {
   "cell_type": "code",
   "execution_count": null,
   "metadata": {},
   "outputs": [],
   "source": [
    "gray = cv2.cvtColor(background, cv2.COLOR_RGB2GRAY)\n",
    "\n",
    "indexs = np.where(gray != 0)\n",
    "\n",
    "new_img = np.zeros((img.shape[0],img.shape[1],4))\n",
    "\n",
    "for i in range(indexs[0].shape[0]):\n",
    "#     print(i)\n",
    "    new_img[indexs[0][i]][indexs[1][i]][:3] = img[indexs[0][i]][indexs[1][i]]\n",
    "    new_img[indexs[0][i]][indexs[1][i]][3] = 255\n",
    "#     print(new_img[indexs[0][i]][indexs[1][i]])\n",
    "\n",
    "(y, x) = np.where(gray != 0)\n",
    "(topy, topx) = (np.min(y), np.min(x))\n",
    "(bottomy, bottomx) = (np.max(y), np.max(x))\n",
    "out = new_img[topy:bottomy+1, topx:bottomx+1]\n",
    "\n",
    "cv2.imwrite(\"test2.png\",out)\n",
    "\n",
    "print(out.shape)"
   ]
  },
  {
   "cell_type": "markdown",
   "metadata": {},
   "source": [
    "## Data Contour Crop"
   ]
  },
  {
   "cell_type": "code",
   "execution_count": 57,
   "metadata": {
    "scrolled": false
   },
   "outputs": [
    {
     "data": {
      "text/plain": [
       "<matplotlib.image.AxesImage at 0x7f0d84595e10>"
      ]
     },
     "execution_count": 57,
     "metadata": {},
     "output_type": "execute_result"
    },
    {
     "data": {
      "image/png": "[encoded data removed]",
      "text/plain": [
       "<Figure size 720x720 with 1 Axes>"
      ]
     },
     "metadata": {
      "needs_background": "light"
     },
     "output_type": "display_data"
    },
    {
     "data": {
      "image/png": "[encoded data removed]",
      "text/plain": [
       "<Figure size 720x720 with 1 Axes>"
      ]
     },
     "metadata": {
      "needs_background": "light"
     },
     "output_type": "display_data"
    }
   ],
   "source": [
    "img = cv2.imread('./test_data/15.jpg',  0) # Read in your image\n",
    "ret, thr = cv2.threshold(img, 120, 255, cv2.THRESH_BINARY)\n",
    "# ret, mask = cv2.threshold(img, 0, 255, cv2.THRESH_BINARY+cv2.THRESH_OTSU)\n",
    "\n",
    "plt.figure(figsize=(10,10))\n",
    "plt.imshow(thr)\n",
    "\n",
    "\n",
    "# kernel = np.ones((3, 3), np.uint8)\n",
    "# result = cv2.morphologyEx(thr, cv2.MORPH_OPEN, kernel)\n",
    "\n",
    "# # contours, _ = cv2.findContours(...) # Your call to find the contours using OpenCV 2.4.x\n",
    "contours, _ = cv2.findContours(thr, cv2.RETR_TREE, cv2.CHAIN_APPROX_SIMPLE) # Your call to find the contours\n",
    "\n",
    "for ct in contours:\n",
    "    x,y,w,h = cv2.boundingRect(ct)\n",
    "#     print(w,h)\n",
    "    \n",
    "    if w > 900 and w < 2000 and h > 900 and h < 2000:\n",
    "        mask = np.zeros_like(img) # Create mask where white is what we want, black otherwise\n",
    "#         cv2.fillPoly(mask, pts=ct, color=(255,255,255))\n",
    "        cv2.drawContours(mask, ct, -1, (255,255,255), 10) # Draw filled contour in mask\n",
    "        out = np.zeros_like(img) # Extract out the object and place into output image\n",
    "        out[mask == 255] = img[mask == 255]\n",
    "# #print(contours)\n",
    "\n",
    "# # Now crop\n",
    "(y, x) = np.where(mask == 255)\n",
    "(topy, topx) = (np.min(y), np.min(x))\n",
    "(bottomy, bottomx) = (np.max(y), np.max(x))\n",
    "out = out[topy:bottomy+1, topx:bottomx+1]\n",
    "\n",
    "# Show the output image\n",
    "plt.figure(figsize=(10,10))\n",
    "plt.imshow(mask)\n",
    "# cv2.imwrite(\"test.jpg\",out)"
   ]
  },
  {
   "cell_type": "code",
   "execution_count": null,
   "metadata": {},
   "outputs": [],
   "source": []
  },
  {
   "cell_type": "code",
   "execution_count": null,
   "metadata": {},
   "outputs": [],
   "source": []
  }
 ],
 "metadata": {
  "kernelspec": {
   "display_name": "Python 2",
   "language": "python",
   "name": "python2"
  },
  "language_info": {
   "codemirror_mode": {
    "name": "ipython",
    "version": 2
   },
   "file_extension": ".py",
   "mimetype": "text/x-python",
   "name": "python",
   "nbconvert_exporter": "python",
   "pygments_lexer": "ipython2",
   "version": "2.7.15+"
  }
 },
 "nbformat": 4,
 "nbformat_minor": 2
}
